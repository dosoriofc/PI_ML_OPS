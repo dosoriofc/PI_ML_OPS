{
 "cells": [
  {
   "cell_type": "code",
   "execution_count": null,
   "metadata": {},
   "outputs": [],
   "source": [
    "# %pip install pandas\n",
    "# %pip install numpy\n",
    "# %pip install fastparquet\n"
   ]
  },
  {
   "cell_type": "code",
   "execution_count": 4,
   "metadata": {},
   "outputs": [],
   "source": [
    "import pandas as pd\n",
    "import numpy as np\n"
   ]
  },
  {
   "cell_type": "code",
   "execution_count": 10,
   "metadata": {},
   "outputs": [],
   "source": [
    "import ast"
   ]
  },
  {
   "cell_type": "markdown",
   "metadata": {},
   "source": [
    "### 1. CARGA DE DATOS"
   ]
  },
  {
   "cell_type": "code",
   "execution_count": null,
   "metadata": {},
   "outputs": [],
   "source": [
    "# Se lee el archivo output_steam_games.json que esta definido como un unico objeto json y se define el dataframe correspondiente\n",
    "\n",
    "df_games = pd.read_json('./datasets/output_steam_games.json', lines=True)\n",
    "\n",
    "print(df_games.head())   # Se observan una gran cantidad de valores nulos en la filas iniciales\n",
    "\n",
    "print(df_games.tail())\n",
    "\n",
    "print(df_games.shape)\n"
   ]
  },
  {
   "cell_type": "code",
   "execution_count": 9,
   "metadata": {},
   "outputs": [
    {
     "name": "stdout",
     "output_type": "stream",
     "text": [
      "(120445, 13)\n"
     ]
    }
   ],
   "source": [
    "#print(df_games.tail())\n",
    "print(df_games.shape)"
   ]
  },
  {
   "cell_type": "code",
   "execution_count": 11,
   "metadata": {},
   "outputs": [],
   "source": [
    "def load_json_lines(file_path):\n",
    "    data = []\n",
    "    with open(file_path, \"r\", encoding=\"utf-8\") as file:\n",
    "        for line in file:\n",
    "            data.append(ast.literal_eval(line))\n",
    "    return pd.DataFrame(data)\n",
    "\n",
    "df_reviews = load_json_lines(\"./datasets/australian_user_reviews.json\")\n",
    "df_items = load_json_lines(\"./datasets/australian_users_items.json\")"
   ]
  },
  {
   "cell_type": "code",
   "execution_count": 12,
   "metadata": {},
   "outputs": [
    {
     "name": "stdout",
     "output_type": "stream",
     "text": [
      "             user_id                                           user_url  \\\n",
      "0  76561197970982479  http://steamcommunity.com/profiles/76561197970...   \n",
      "1            js41637               http://steamcommunity.com/id/js41637   \n",
      "2          evcentric             http://steamcommunity.com/id/evcentric   \n",
      "3              doctr                 http://steamcommunity.com/id/doctr   \n",
      "4          maplemage             http://steamcommunity.com/id/maplemage   \n",
      "\n",
      "                                             reviews  \n",
      "0  [{'funny': '', 'posted': 'Posted November 5, 2...  \n",
      "1  [{'funny': '', 'posted': 'Posted June 24, 2014...  \n",
      "2  [{'funny': '', 'posted': 'Posted February 3.',...  \n",
      "3  [{'funny': '', 'posted': 'Posted October 14, 2...  \n",
      "4  [{'funny': '3 people found this review funny',...  \n",
      "(25799, 3)\n"
     ]
    }
   ],
   "source": [
    "# Vista preliminar de los datos\n",
    "print(df_reviews.head())\n",
    "#print(df_reviews.tail())\n",
    "print(df_reviews.shape)"
   ]
  },
  {
   "cell_type": "code",
   "execution_count": 14,
   "metadata": {},
   "outputs": [
    {
     "name": "stdout",
     "output_type": "stream",
     "text": [
      "             user_id  items_count           steam_id  \\\n",
      "0  76561197970982479          277  76561197970982479   \n",
      "1            js41637          888  76561198035864385   \n",
      "2          evcentric          137  76561198007712555   \n",
      "3         Riot-Punch          328  76561197963445855   \n",
      "4              doctr          541  76561198002099482   \n",
      "\n",
      "                                            user_url  \\\n",
      "0  http://steamcommunity.com/profiles/76561197970...   \n",
      "1               http://steamcommunity.com/id/js41637   \n",
      "2             http://steamcommunity.com/id/evcentric   \n",
      "3            http://steamcommunity.com/id/Riot-Punch   \n",
      "4                 http://steamcommunity.com/id/doctr   \n",
      "\n",
      "                                               items  \n",
      "0  [{'item_id': '10', 'item_name': 'Counter-Strik...  \n",
      "1  [{'item_id': '10', 'item_name': 'Counter-Strik...  \n",
      "2  [{'item_id': '1200', 'item_name': 'Red Orchest...  \n",
      "3  [{'item_id': '10', 'item_name': 'Counter-Strik...  \n",
      "4  [{'item_id': '300', 'item_name': 'Day of Defea...  \n",
      "(88310, 5)\n"
     ]
    }
   ],
   "source": [
    "print(df_items.head())\n",
    "print(df_items.shape)"
   ]
  },
  {
   "cell_type": "markdown",
   "metadata": {},
   "source": [
    "### 2. ETL-GAMES"
   ]
  },
  {
   "cell_type": "code",
   "execution_count": 15,
   "metadata": {},
   "outputs": [
    {
     "name": "stdout",
     "output_type": "stream",
     "text": [
      "(120445, 13)\n",
      "<class 'pandas.core.frame.DataFrame'>\n",
      "RangeIndex: 120445 entries, 0 to 120444\n",
      "Data columns (total 13 columns):\n",
      " #   Column        Non-Null Count  Dtype  \n",
      "---  ------        --------------  -----  \n",
      " 0   publisher     24083 non-null  object \n",
      " 1   genres        28852 non-null  object \n",
      " 2   app_name      32133 non-null  object \n",
      " 3   title         30085 non-null  object \n",
      " 4   url           32135 non-null  object \n",
      " 5   release_date  30068 non-null  object \n",
      " 6   tags          31972 non-null  object \n",
      " 7   reviews_url   32133 non-null  object \n",
      " 8   specs         31465 non-null  object \n",
      " 9   price         30758 non-null  object \n",
      " 10  early_access  32135 non-null  float64\n",
      " 11  id            32133 non-null  float64\n",
      " 12  developer     28836 non-null  object \n",
      "dtypes: float64(2), object(11)\n",
      "memory usage: 11.9+ MB\n",
      "None\n"
     ]
    }
   ],
   "source": [
    "print(df_games.shape)\n",
    "print(df_games.info())      # Se observa una gran cantidad de datos nulos"
   ]
  },
  {
   "cell_type": "code",
   "execution_count": 16,
   "metadata": {},
   "outputs": [
    {
     "name": "stdout",
     "output_type": "stream",
     "text": [
      "publisher       96362\n",
      "genres          91593\n",
      "app_name        88312\n",
      "title           90360\n",
      "url             88310\n",
      "release_date    90377\n",
      "tags            88473\n",
      "reviews_url     88312\n",
      "specs           88980\n",
      "price           89687\n",
      "early_access    88310\n",
      "id              88312\n",
      "developer       91609\n",
      "dtype: int64\n"
     ]
    }
   ],
   "source": [
    "print(df_games.isnull().sum())"
   ]
  },
  {
   "cell_type": "code",
   "execution_count": 17,
   "metadata": {},
   "outputs": [
    {
     "name": "stdout",
     "output_type": "stream",
     "text": [
      "publisher       8052\n",
      "genres          3283\n",
      "app_name           2\n",
      "title           2050\n",
      "url                0\n",
      "release_date    2067\n",
      "tags             163\n",
      "reviews_url        2\n",
      "specs            670\n",
      "price           1377\n",
      "early_access       0\n",
      "id                 2\n",
      "developer       3299\n",
      "dtype: int64\n"
     ]
    }
   ],
   "source": [
    "# Se eliminan las filas del dataframe que tienen todos sus valores nulos\n",
    "df_games = df_games.dropna(how='all')\n",
    "print(df_games.isnull().sum())"
   ]
  },
  {
   "cell_type": "code",
   "execution_count": 19,
   "metadata": {},
   "outputs": [
    {
     "name": "stdout",
     "output_type": "stream",
     "text": [
      "<class 'pandas.core.frame.DataFrame'>\n",
      "Index: 27596 entries, 88310 to 120443\n",
      "Data columns (total 13 columns):\n",
      " #   Column        Non-Null Count  Dtype  \n",
      "---  ------        --------------  -----  \n",
      " 0   publisher     22916 non-null  object \n",
      " 1   genres        27462 non-null  object \n",
      " 2   app_name      27596 non-null  object \n",
      " 3   title         27596 non-null  object \n",
      " 4   url           27596 non-null  object \n",
      " 5   release_date  27596 non-null  object \n",
      " 6   tags          27488 non-null  object \n",
      " 7   reviews_url   27596 non-null  object \n",
      " 8   specs         27316 non-null  object \n",
      " 9   price         27596 non-null  object \n",
      " 10  early_access  27596 non-null  float64\n",
      " 11  id            27596 non-null  float64\n",
      " 12  developer     27596 non-null  object \n",
      "dtypes: float64(2), object(11)\n",
      "memory usage: 2.9+ MB\n",
      "None\n"
     ]
    }
   ],
   "source": [
    "# Se eliminan las filas con datos nulos en las columans 'id', 'release_date', 'developer' y 'price'\n",
    "df_games = df_games.dropna(subset=['id', 'release_date', 'developer', 'price'])\n",
    "print(df_games.info())"
   ]
  },
  {
   "cell_type": "code",
   "execution_count": null,
   "metadata": {},
   "outputs": [],
   "source": [
    "# Se eliminan las filas con datos nulos en las columans 'id', 'release_date', 'developer' y 'price'\n",
    "df_games = df_games.dropna(subset=['genres'])\n",
    "print(df_games.info())"
   ]
  },
  {
   "cell_type": "code",
   "execution_count": null,
   "metadata": {},
   "outputs": [],
   "source": [
    "# Se obtiene el año del release_date requerido para el análisis\n",
    "df_games['release_date'] = pd.to_datetime(df_games['release_date'], errors='coerce')\n",
    "df_games['year'] = df_games['release_date'].dt.year\n",
    "\n",
    "\n",
    "df_games = df_games.dropna(subset=['year'])\n",
    "df_games['year'] = df_games['year'].astype(int)\n",
    "\n",
    "print(df_games.head(1))"
   ]
  },
  {
   "cell_type": "code",
   "execution_count": 23,
   "metadata": {},
   "outputs": [],
   "source": [
    "# Se cambia a letra minuscula todos los valores en genres, requerido para el analisis posterior\n",
    "df_games['genres'] = df_games['genres'].astype(str).str.lower()\n",
    "\n",
    "print(df_games['genres'])"
   ]
  },
  {
   "cell_type": "code",
   "execution_count": null,
   "metadata": {},
   "outputs": [],
   "source": [
    "# Se Cambia el nombre de la columna \"id\" por \"item_id\" y se convierte a enteros requerido para analisis posterior\n",
    "df_games = df_games.rename(columns={'id': 'item_id'})\n",
    "df_games['item_id'] = df_games['item_id'].astype(int) \n",
    "\n",
    "print(df_games.info())"
   ]
  },
  {
   "cell_type": "code",
   "execution_count": 32,
   "metadata": {},
   "outputs": [
    {
     "name": "stdout",
     "output_type": "stream",
     "text": [
      "Index(['publisher', 'genres', 'app_name', 'title', 'url', 'release_date',\n",
      "       'tags', 'reviews_url', 'specs', 'price', 'early_access', 'item_id',\n",
      "       'developer', 'year'],\n",
      "      dtype='object')\n"
     ]
    }
   ],
   "source": [
    "print(df_games.columns)"
   ]
  },
  {
   "cell_type": "code",
   "execution_count": 104,
   "metadata": {},
   "outputs": [
    {
     "name": "stdout",
     "output_type": "stream",
     "text": [
      "                                                  genres                title  \\\n",
      "88310  ['action', 'casual', 'indie', 'simulation', 's...  Lost Summoner Kitty   \n",
      "\n",
      "       item_id    year  \n",
      "88310   761140  2018.0  \n",
      "(27596, 4)\n"
     ]
    }
   ],
   "source": [
    "# Se genera el dataframe con las columnas requieridas para las funciones a desarrollar\n",
    "df_games_api=df_games.loc[:, ['genres', 'title', 'item_id', 'year']]\n",
    "\n",
    "print(df_games_api.head(1))\n",
    "print(df_games_api.shape)"
   ]
  },
  {
   "cell_type": "code",
   "execution_count": 66,
   "metadata": {},
   "outputs": [],
   "source": [
    "df_games_api.to_parquet(\"./datasets/df_game_api.parquet\", index=False)"
   ]
  },
  {
   "cell_type": "markdown",
   "metadata": {},
   "source": [
    "### 3. ETL-REVIEWS"
   ]
  },
  {
   "cell_type": "code",
   "execution_count": null,
   "metadata": {},
   "outputs": [],
   "source": [
    "print(df_reviews.head())     # Se observa una seria almacenada en la columna 'review' que se debe expandir\n",
    "#print(df_reviews.tail())\n",
    "print(df_reviews.shape)"
   ]
  },
  {
   "cell_type": "code",
   "execution_count": 28,
   "metadata": {},
   "outputs": [],
   "source": [
    "# Se expandira el dataframe df_reviews para que quede una fila por cada recomendación \n",
    "# Y una columna por cada dato de la seria almacenada en la columna de 'review'\n",
    "\n",
    "expanded_rows = []\n",
    "for index, row in df_reviews.iterrows():\n",
    "    user_id  = row['user_id']\n",
    "    user_url = row['user_url']\n",
    "\n",
    "    review_list = row['reviews']\n",
    "\n",
    "    for it in review_list:\n",
    "        # se genera diccionario del nuevo df expandido\n",
    "        new_item = {    'user_id'  : user_id ,\n",
    "                        'user_url' : user_url,\n",
    "                        **it\n",
    "                    }\n",
    "        expanded_rows.append(new_item)\n",
    "\n",
    "df_reviews_exp = pd.DataFrame(expanded_rows)"
   ]
  },
  {
   "cell_type": "code",
   "execution_count": 31,
   "metadata": {},
   "outputs": [
    {
     "name": "stdout",
     "output_type": "stream",
     "text": [
      "Index(['user_id', 'user_url', 'funny', 'posted', 'last_edited', 'item_id',\n",
      "       'helpful', 'recommend', 'review'],\n",
      "      dtype='object')\n"
     ]
    }
   ],
   "source": [
    "print(df_reviews_exp.columns)"
   ]
  },
  {
   "cell_type": "code",
   "execution_count": 37,
   "metadata": {},
   "outputs": [
    {
     "name": "stdout",
     "output_type": "stream",
     "text": [
      "<class 'pandas.core.frame.DataFrame'>\n",
      "RangeIndex: 59305 entries, 0 to 59304\n",
      "Data columns (total 9 columns):\n",
      " #   Column       Non-Null Count  Dtype \n",
      "---  ------       --------------  ----- \n",
      " 0   user_id      59305 non-null  object\n",
      " 1   user_url     59305 non-null  object\n",
      " 2   funny        59305 non-null  object\n",
      " 3   posted       59305 non-null  object\n",
      " 4   last_edited  59305 non-null  object\n",
      " 5   item_id      59305 non-null  object\n",
      " 6   helpful      59305 non-null  object\n",
      " 7   recommend    59305 non-null  bool  \n",
      " 8   review       59305 non-null  object\n",
      "dtypes: bool(1), object(8)\n",
      "memory usage: 3.7+ MB\n",
      "None\n"
     ]
    }
   ],
   "source": [
    "print(df_reviews_exp.info())"
   ]
  },
  {
   "cell_type": "code",
   "execution_count": 40,
   "metadata": {},
   "outputs": [],
   "source": [
    "# Reemplazar valores vacíos, 'null' y 'None' con NaN en todo el DataFrame\n",
    "df_reviews_exp.replace(['', 'null', 'None'], np.nan, inplace=True)"
   ]
  },
  {
   "cell_type": "code",
   "execution_count": 42,
   "metadata": {},
   "outputs": [
    {
     "name": "stdout",
     "output_type": "stream",
     "text": [
      "874\n"
     ]
    }
   ],
   "source": [
    "# Se verifican y se eliminan las filas duplicadas\n",
    "filas_dup = df_reviews_exp.duplicated().sum()\n",
    "print(filas_dup)"
   ]
  },
  {
   "cell_type": "code",
   "execution_count": 43,
   "metadata": {},
   "outputs": [
    {
     "name": "stdout",
     "output_type": "stream",
     "text": [
      "(59305, 9)\n"
     ]
    }
   ],
   "source": [
    "print(df_reviews_exp.shape)"
   ]
  },
  {
   "cell_type": "code",
   "execution_count": 44,
   "metadata": {},
   "outputs": [
    {
     "name": "stdout",
     "output_type": "stream",
     "text": [
      "(58431, 9)\n"
     ]
    }
   ],
   "source": [
    "df_reviews_exp.drop_duplicates(inplace=True)\n",
    "print(df_reviews_exp.shape)"
   ]
  },
  {
   "cell_type": "code",
   "execution_count": null,
   "metadata": {},
   "outputs": [],
   "source": [
    "print(df_reviews_exp.head(5))"
   ]
  },
  {
   "cell_type": "code",
   "execution_count": 46,
   "metadata": {},
   "outputs": [
    {
     "name": "stdout",
     "output_type": "stream",
     "text": [
      "posted\n",
      "2014-06-21    220\n",
      "2014-06-20    192\n",
      "2014-06-27    171\n",
      "2014-06-23    171\n",
      "2013-12-26    169\n",
      "             ... \n",
      "2011-03-25      1\n",
      "2011-11-16      1\n",
      "2011-05-28      1\n",
      "2012-02-01      1\n",
      "2012-11-03      1\n",
      "Name: count, Length: 1644, dtype: int64\n"
     ]
    }
   ],
   "source": [
    "# Se obtiene el año del review a partir de la columna 'posted'\n",
    "\n",
    "# Se convierte 'posted' a  tipo datetime\n",
    "df_reviews_exp['posted'] = pd.to_datetime(df_reviews_exp['posted'], format='Posted %B %d, %Y.', errors='coerce')\n",
    "\n",
    "print(df_reviews_exp['posted'].value_counts()) "
   ]
  },
  {
   "cell_type": "code",
   "execution_count": 47,
   "metadata": {},
   "outputs": [
    {
     "name": "stdout",
     "output_type": "stream",
     "text": [
      "year\n",
      "2014    21834\n",
      "2015    18154\n",
      "2013     6713\n",
      "2012     1201\n",
      "2011      530\n",
      "2010       66\n",
      "Name: count, dtype: Int64\n"
     ]
    }
   ],
   "source": [
    "# Crea la columna 'year' a partir de 'posted'\n",
    "df_reviews_exp['year'] = df_reviews_exp['posted'].dt.year.astype('Int64')\n",
    "\n",
    "print(df_reviews_exp['year'].value_counts()) "
   ]
  },
  {
   "cell_type": "code",
   "execution_count": 48,
   "metadata": {},
   "outputs": [
    {
     "name": "stdout",
     "output_type": "stream",
     "text": [
      "30\n",
      "<class 'pandas.core.frame.DataFrame'>\n",
      "Index: 58431 entries, 0 to 59304\n",
      "Data columns (total 10 columns):\n",
      " #   Column       Non-Null Count  Dtype         \n",
      "---  ------       --------------  -----         \n",
      " 0   user_id      58431 non-null  object        \n",
      " 1   user_url     58431 non-null  object        \n",
      " 2   funny        8010 non-null   object        \n",
      " 3   posted       48498 non-null  datetime64[ns]\n",
      " 4   last_edited  6037 non-null   object        \n",
      " 5   item_id      58431 non-null  object        \n",
      " 6   helpful      58431 non-null  object        \n",
      " 7   recommend    58431 non-null  bool          \n",
      " 8   review       58401 non-null  object        \n",
      " 9   year         48498 non-null  Int64         \n",
      "dtypes: Int64(1), bool(1), datetime64[ns](1), object(7)\n",
      "memory usage: 4.6+ MB\n",
      "None\n"
     ]
    }
   ],
   "source": [
    "# Eliminar filas con valores nulos en 'review'\n",
    "var_nulos = (df_reviews_exp['review'].isnull().sum()) \n",
    "print(var_nulos)\n",
    "print(df_reviews_exp.info())\n",
    "#df_reviews_exp = df_reviews_exp.dropna(subset=['review'])"
   ]
  },
  {
   "cell_type": "code",
   "execution_count": 49,
   "metadata": {},
   "outputs": [
    {
     "name": "stdout",
     "output_type": "stream",
     "text": [
      "<class 'pandas.core.frame.DataFrame'>\n",
      "Index: 58401 entries, 0 to 59304\n",
      "Data columns (total 10 columns):\n",
      " #   Column       Non-Null Count  Dtype         \n",
      "---  ------       --------------  -----         \n",
      " 0   user_id      58401 non-null  object        \n",
      " 1   user_url     58401 non-null  object        \n",
      " 2   funny        8009 non-null   object        \n",
      " 3   posted       48471 non-null  datetime64[ns]\n",
      " 4   last_edited  6037 non-null   object        \n",
      " 5   item_id      58401 non-null  object        \n",
      " 6   helpful      58401 non-null  object        \n",
      " 7   recommend    58401 non-null  bool          \n",
      " 8   review       58401 non-null  object        \n",
      " 9   year         48471 non-null  Int64         \n",
      "dtypes: Int64(1), bool(1), datetime64[ns](1), object(7)\n",
      "memory usage: 4.6+ MB\n",
      "None\n"
     ]
    }
   ],
   "source": [
    "df_reviews_exp = df_reviews_exp.dropna(subset=['review'])\n",
    "print(df_reviews_exp.info())\n"
   ]
  },
  {
   "cell_type": "code",
   "execution_count": 50,
   "metadata": {},
   "outputs": [
    {
     "name": "stdout",
     "output_type": "stream",
     "text": [
      "<class 'pandas.core.frame.DataFrame'>\n",
      "Index: 48471 entries, 0 to 59276\n",
      "Data columns (total 10 columns):\n",
      " #   Column       Non-Null Count  Dtype         \n",
      "---  ------       --------------  -----         \n",
      " 0   user_id      48471 non-null  object        \n",
      " 1   user_url     48471 non-null  object        \n",
      " 2   funny        5696 non-null   object        \n",
      " 3   posted       48471 non-null  datetime64[ns]\n",
      " 4   last_edited  5057 non-null   object        \n",
      " 5   item_id      48471 non-null  object        \n",
      " 6   helpful      48471 non-null  object        \n",
      " 7   recommend    48471 non-null  bool          \n",
      " 8   review       48471 non-null  object        \n",
      " 9   year         48471 non-null  Int64         \n",
      "dtypes: Int64(1), bool(1), datetime64[ns](1), object(7)\n",
      "memory usage: 3.8+ MB\n",
      "None\n"
     ]
    }
   ],
   "source": [
    "# Se Eliminan los valores que no tienen un año especifico \n",
    "df_reviews_exp = df_reviews_exp.dropna(subset=['year'])\n",
    "print(df_reviews_exp.info())\n"
   ]
  },
  {
   "cell_type": "code",
   "execution_count": 65,
   "metadata": {},
   "outputs": [
    {
     "name": "stdout",
     "output_type": "stream",
     "text": [
      "             user_id item_id  recommend  \\\n",
      "0  76561197970982479    1250       True   \n",
      "1  76561197970982479   22200       True   \n",
      "2  76561197970982479   43110       True   \n",
      "3            js41637  251610       True   \n",
      "4            js41637  227300       True   \n",
      "\n",
      "                                              review  year  \n",
      "0  Simple yet with great replayability. In my opi...  2011  \n",
      "1               It's unique and worth a playthrough.  2011  \n",
      "2  Great atmosphere. The gunplay can be a bit chu...  2011  \n",
      "3  I know what you think when you see this title ...  2014  \n",
      "4  For a simple (it's actually not all that simpl...  2013  \n",
      "(48471, 5)\n"
     ]
    }
   ],
   "source": [
    "# Se genera el dataframe con las columnas requieridas para las funciones a desarrollar\n",
    "df_reviews_api=df_reviews_exp.loc[:, ['user_id', 'item_id', 'recommend', 'review', 'year']]\n",
    "\n",
    "print(df_reviews_api.head())\n",
    "print(df_reviews_api.shape)"
   ]
  },
  {
   "cell_type": "code",
   "execution_count": 52,
   "metadata": {},
   "outputs": [
    {
     "name": "stdout",
     "output_type": "stream",
     "text": [
      "<class 'pandas.core.frame.DataFrame'>\n",
      "Index: 48471 entries, 0 to 59276\n",
      "Data columns (total 4 columns):\n",
      " #   Column   Non-Null Count  Dtype \n",
      "---  ------   --------------  ----- \n",
      " 0   user_id  48471 non-null  object\n",
      " 1   item_id  48471 non-null  int32 \n",
      " 2   review   48471 non-null  object\n",
      " 3   year     48471 non-null  Int64 \n",
      "dtypes: Int64(1), int32(1), object(2)\n",
      "memory usage: 1.7+ MB\n",
      "None\n"
     ]
    }
   ],
   "source": [
    "# Convertir los datos de la columna 'item_id' a formato entero\n",
    "df_reviews_api['item_id'] = df_reviews_api['item_id'].astype(int) \n",
    "print(df_reviews_api.info())"
   ]
  },
  {
   "cell_type": "code",
   "execution_count": 71,
   "metadata": {},
   "outputs": [],
   "source": [
    "df_reviews_api.to_parquet(\"./datasets/df_reviews_api.parquet\", index=False)"
   ]
  },
  {
   "cell_type": "markdown",
   "metadata": {},
   "source": [
    "### 4. ETL-ITEMS"
   ]
  },
  {
   "cell_type": "code",
   "execution_count": 54,
   "metadata": {},
   "outputs": [
    {
     "name": "stdout",
     "output_type": "stream",
     "text": [
      "<class 'pandas.core.frame.DataFrame'>\n",
      "RangeIndex: 88310 entries, 0 to 88309\n",
      "Data columns (total 5 columns):\n",
      " #   Column       Non-Null Count  Dtype \n",
      "---  ------       --------------  ----- \n",
      " 0   user_id      88310 non-null  object\n",
      " 1   items_count  88310 non-null  int64 \n",
      " 2   steam_id     88310 non-null  object\n",
      " 3   user_url     88310 non-null  object\n",
      " 4   items        88310 non-null  object\n",
      "dtypes: int64(1), object(4)\n",
      "memory usage: 3.4+ MB\n",
      "None\n"
     ]
    }
   ],
   "source": [
    "#print(df_items.head())\n",
    "print(df_items.info())\n"
   ]
  },
  {
   "cell_type": "code",
   "execution_count": 73,
   "metadata": {},
   "outputs": [],
   "source": [
    "# Se expandira el dataframe df_items para que quede una fila por cada recomendación \n",
    "# Y una columna por cada dato de la seria almacenada en la columna de 'items'\n",
    "\n",
    "expanded_rows = []\n",
    "for index, row in df_items.iterrows():\n",
    "    user_id  = row['user_id']\n",
    "    user_url = row['user_url']\n",
    "\n",
    "    items_list = row['items']\n",
    "\n",
    "    for it in items_list:\n",
    "        # se genera diccionario del nuevo df expandido\n",
    "        new_item = {    'user_id'  : user_id ,\n",
    "                        'user_url' : user_url,\n",
    "                        **it\n",
    "                    }\n",
    "        expanded_rows.append(new_item)\n",
    "\n",
    "df_items_exp = pd.DataFrame(expanded_rows)"
   ]
  },
  {
   "cell_type": "code",
   "execution_count": 74,
   "metadata": {},
   "outputs": [
    {
     "name": "stdout",
     "output_type": "stream",
     "text": [
      "<class 'pandas.core.frame.DataFrame'>\n",
      "RangeIndex: 5153209 entries, 0 to 5153208\n",
      "Data columns (total 6 columns):\n",
      " #   Column            Dtype \n",
      "---  ------            ----- \n",
      " 0   user_id           object\n",
      " 1   user_url          object\n",
      " 2   item_id           object\n",
      " 3   item_name         object\n",
      " 4   playtime_forever  int64 \n",
      " 5   playtime_2weeks   int64 \n",
      "dtypes: int64(2), object(4)\n",
      "memory usage: 235.9+ MB\n",
      "None\n"
     ]
    }
   ],
   "source": [
    "print(df_items_exp.info())"
   ]
  },
  {
   "cell_type": "code",
   "execution_count": 75,
   "metadata": {},
   "outputs": [
    {
     "name": "stdout",
     "output_type": "stream",
     "text": [
      "59104\n",
      "(5153209, 6)\n"
     ]
    }
   ],
   "source": [
    "# Se eliminan las filas duplicadas\n",
    "filas_dup = df_items_exp.duplicated().sum()\n",
    "print(filas_dup)\n",
    "print(df_items_exp.shape)"
   ]
  },
  {
   "cell_type": "code",
   "execution_count": 76,
   "metadata": {},
   "outputs": [
    {
     "name": "stdout",
     "output_type": "stream",
     "text": [
      "(5094105, 6)\n"
     ]
    }
   ],
   "source": [
    "df_items_exp.drop_duplicates(inplace=True)\n",
    "print(df_items_exp.shape)"
   ]
  },
  {
   "cell_type": "code",
   "execution_count": 77,
   "metadata": {},
   "outputs": [
    {
     "data": {
      "text/plain": [
       "Index(['user_id', 'item_id', 'playtime_forever'], dtype='object')"
      ]
     },
     "execution_count": 77,
     "metadata": {},
     "output_type": "execute_result"
    }
   ],
   "source": [
    "# Se eliminan las columnas que nos son utiles para nuestro estudio\n",
    "df_items_api = df_items_exp.drop(['user_url', 'item_name', 'playtime_2weeks'], axis=1)\n",
    "df_items_api.columns"
   ]
  },
  {
   "cell_type": "code",
   "execution_count": 78,
   "metadata": {},
   "outputs": [
    {
     "name": "stdout",
     "output_type": "stream",
     "text": [
      "<class 'pandas.core.frame.DataFrame'>\n",
      "Index: 5094105 entries, 0 to 5153208\n",
      "Data columns (total 3 columns):\n",
      " #   Column            Dtype \n",
      "---  ------            ----- \n",
      " 0   user_id           object\n",
      " 1   item_id           int32 \n",
      " 2   playtime_forever  int64 \n",
      "dtypes: int32(1), int64(1), object(1)\n",
      "memory usage: 136.0+ MB\n",
      "None\n"
     ]
    }
   ],
   "source": [
    "# Convertir los datos de la columna 'item_id' a entero\n",
    "df_items_api['item_id'] = df_items_api['item_id'].astype(int)\n",
    "print(df_items_api.info())"
   ]
  },
  {
   "cell_type": "code",
   "execution_count": 79,
   "metadata": {},
   "outputs": [],
   "source": [
    "# Para ver las filas con valores de playtime_forever=0 (para considerar eliminar de encontrarse necesario) \n",
    "conteo_valores = df_items_api['playtime_forever'].value_counts()"
   ]
  },
  {
   "cell_type": "code",
   "execution_count": 80,
   "metadata": {},
   "outputs": [
    {
     "name": "stdout",
     "output_type": "stream",
     "text": [
      "playtime_forever\n",
      "0        1847730\n",
      "1         101586\n",
      "2          34391\n",
      "3          31530\n",
      "4          29127\n",
      "          ...   \n",
      "76541          1\n",
      "64676          1\n",
      "53328          1\n",
      "44029          1\n",
      "34753          1\n",
      "Name: count, Length: 48861, dtype: int64\n"
     ]
    }
   ],
   "source": [
    "print(conteo_valores)"
   ]
  },
  {
   "cell_type": "code",
   "execution_count": 85,
   "metadata": {},
   "outputs": [
    {
     "name": "stdout",
     "output_type": "stream",
     "text": [
      "playtime_forever\n",
      "1        101586\n",
      "2         34391\n",
      "3         31530\n",
      "4         29127\n",
      "5         27612\n",
      "          ...  \n",
      "76541         1\n",
      "64676         1\n",
      "53328         1\n",
      "44029         1\n",
      "34753         1\n",
      "Name: count, Length: 48860, dtype: int64\n"
     ]
    }
   ],
   "source": [
    "df_items_api = df_items_api.loc[df_items_api['playtime_forever'] != 0]\n",
    "conteo_valores = df_items_api['playtime_forever'].value_counts()\n",
    "print(conteo_valores)"
   ]
  },
  {
   "cell_type": "code",
   "execution_count": 64,
   "metadata": {},
   "outputs": [
    {
     "name": "stdout",
     "output_type": "stream",
     "text": [
      "0\n"
     ]
    }
   ],
   "source": [
    "filas_nulas = df_items_api['playtime_forever'].isnull().sum()\n",
    "print (filas_nulas)"
   ]
  },
  {
   "cell_type": "code",
   "execution_count": 86,
   "metadata": {},
   "outputs": [],
   "source": [
    "df_items_api.to_parquet(\"./datasets/df_items_api.parquet\", index=False)"
   ]
  },
  {
   "cell_type": "markdown",
   "metadata": {},
   "source": [
    "### 5. Analisis de Sentimiento"
   ]
  },
  {
   "cell_type": "code",
   "execution_count": 88,
   "metadata": {},
   "outputs": [],
   "source": [
    "#%pip install langdetect \n",
    "from langdetect import detect"
   ]
  },
  {
   "cell_type": "code",
   "execution_count": 92,
   "metadata": {},
   "outputs": [],
   "source": [
    "#%pip install nltk\n",
    "import nltk\n",
    "from nltk.sentiment.vader import SentimentIntensityAnalyzer\n"
   ]
  },
  {
   "cell_type": "code",
   "execution_count": 89,
   "metadata": {},
   "outputs": [
    {
     "data": {
      "text/html": [
       "<div>\n",
       "<style scoped>\n",
       "    .dataframe tbody tr th:only-of-type {\n",
       "        vertical-align: middle;\n",
       "    }\n",
       "\n",
       "    .dataframe tbody tr th {\n",
       "        vertical-align: top;\n",
       "    }\n",
       "\n",
       "    .dataframe thead th {\n",
       "        text-align: right;\n",
       "    }\n",
       "</style>\n",
       "<table border=\"1\" class=\"dataframe\">\n",
       "  <thead>\n",
       "    <tr style=\"text-align: right;\">\n",
       "      <th></th>\n",
       "      <th>Conteo</th>\n",
       "      <th>Porcentaje</th>\n",
       "    </tr>\n",
       "    <tr>\n",
       "      <th>idioma</th>\n",
       "      <th></th>\n",
       "      <th></th>\n",
       "    </tr>\n",
       "  </thead>\n",
       "  <tbody>\n",
       "    <tr>\n",
       "      <th>en</th>\n",
       "      <td>37225</td>\n",
       "      <td>77.5%</td>\n",
       "    </tr>\n",
       "    <tr>\n",
       "      <th>pt</th>\n",
       "      <td>1812</td>\n",
       "      <td>3.77%</td>\n",
       "    </tr>\n",
       "    <tr>\n",
       "      <th>es</th>\n",
       "      <td>1058</td>\n",
       "      <td>2.2%</td>\n",
       "    </tr>\n",
       "    <tr>\n",
       "      <th>de</th>\n",
       "      <td>981</td>\n",
       "      <td>2.04%</td>\n",
       "    </tr>\n",
       "    <tr>\n",
       "      <th>so</th>\n",
       "      <td>872</td>\n",
       "      <td>1.82%</td>\n",
       "    </tr>\n",
       "  </tbody>\n",
       "</table>\n",
       "</div>"
      ],
      "text/plain": [
       "        Conteo Porcentaje\n",
       "idioma                   \n",
       "en       37225      77.5%\n",
       "pt        1812      3.77%\n",
       "es        1058       2.2%\n",
       "de         981      2.04%\n",
       "so         872      1.82%"
      ]
     },
     "execution_count": 89,
     "metadata": {},
     "output_type": "execute_result"
    }
   ],
   "source": [
    "# Determinar el lenguaje en el que fueron escritos los 'review'\n",
    "\n",
    "def detectar_idioma(texto):\n",
    "    try:\n",
    "        return detect(texto)\n",
    "    except:\n",
    "        return None\n",
    "\n",
    "# Aplicar la función para detectar idioma y crear una nueva columna 'idioma'\n",
    "df_reviews_api['idioma'] = df_reviews_api['review'].apply(detectar_idioma)\n",
    "\n",
    "# Calcular el conteo y porcentaje de cada idioma\n",
    "conteo_por_idioma = df_reviews_api['idioma'].value_counts()\n",
    "porcentaje_por_idioma = df_reviews_api['idioma'].value_counts(normalize=True) * 100\n",
    "\n",
    "# Crear un nuevo DataFrame con el conteo y porcentaje\n",
    "resumen_idiomas = pd.DataFrame({\n",
    "    'Conteo': conteo_por_idioma,\n",
    "    'Porcentaje': porcentaje_por_idioma.round(2).astype(str) + '%'\n",
    "})\n",
    "\n",
    "# Ordenar el DataFrame por el conteo de mayor a menor\n",
    "resumen_idiomas = resumen_idiomas.sort_values(by='Conteo', ascending=False)\n",
    "resumen_idiomas.head()\n"
   ]
  },
  {
   "cell_type": "code",
   "execution_count": 90,
   "metadata": {},
   "outputs": [
    {
     "name": "stdout",
     "output_type": "stream",
     "text": [
      "idioma\n",
      "en    37225\n",
      "Name: count, dtype: int64\n"
     ]
    }
   ],
   "source": [
    "# Para eliminar los review que no estan en Ingles 'en' y se almacenara en el dataframe df_reviews_en \n",
    "df_reviews_api_en = df_reviews_api[df_reviews_api['idioma']== 'en'].copy()\n",
    "\n",
    "print(df_reviews_api_en['idioma'].value_counts()) \n"
   ]
  },
  {
   "cell_type": "code",
   "execution_count": null,
   "metadata": {},
   "outputs": [],
   "source": [
    "print(df_reviews_api_en.head(1))"
   ]
  },
  {
   "cell_type": "code",
   "execution_count": 94,
   "metadata": {},
   "outputs": [
    {
     "name": "stderr",
     "output_type": "stream",
     "text": [
      "[nltk_data] Downloading package vader_lexicon to\n",
      "[nltk_data]     C:\\Users\\Diego\\AppData\\Roaming\\nltk_data...\n"
     ]
    }
   ],
   "source": [
    "\n",
    "# Descargar el lexicon necesario para el análisis de sentimientos\n",
    "nltk.download('vader_lexicon')\n",
    "\n",
    "# Crear una instancia del analizador de sentimientos\n",
    "sia = SentimentIntensityAnalyzer()\n",
    "\n",
    "# Convertimos la columna 'review' en tipo string para aplicar nuestro modelo de analisis de sentimiento\n",
    "df_reviews_api_en['review'] = df_reviews_api_en['review'].astype(str)\n",
    "\n",
    "# Calcula el puntaje de sentimiento para cada reseña y agrega al df una nueva columna \"sentimiento\"\n",
    "df_reviews_api_en['sentimiento'] = df_reviews_api_en['review'].apply(lambda x: sia.polarity_scores(x)['compound'])\n",
    "\n",
    "# Definimos umbrales para clasificar las reseñas en positivas, neutrales y negativas\n",
    "umbral_positivo = 0.3\n",
    "umbral_negativo = -0.3\n",
    "\n",
    "# Crea una nueva columna \"sentimiento_etiqueta\" para clasificar en positivo, neutral y negativo\n",
    "df_reviews_api_en['sentimiento_etiqueta'] = df_reviews_api_en['sentimiento'].apply(lambda x: 2 if x > umbral_positivo else (0 if x < umbral_negativo else 1))"
   ]
  },
  {
   "cell_type": "code",
   "execution_count": 97,
   "metadata": {},
   "outputs": [
    {
     "name": "stdout",
     "output_type": "stream",
     "text": [
      "sentimiento_etiqueta\n",
      "2    24571\n",
      "1     7673\n",
      "0     4981\n",
      "Name: count, dtype: int64\n"
     ]
    }
   ],
   "source": [
    "#print(df_reviews_api_en.head(2))\n",
    "print(df_reviews_api_en['sentimiento_etiqueta'].value_counts())\n"
   ]
  },
  {
   "cell_type": "code",
   "execution_count": 98,
   "metadata": {},
   "outputs": [
    {
     "name": "stdout",
     "output_type": "stream",
     "text": [
      "Index(['user_id', 'item_id', 'recommend', 'review', 'year', 'idioma',\n",
      "       'sentimiento', 'sentimiento_etiqueta'],\n",
      "      dtype='object')\n"
     ]
    }
   ],
   "source": [
    "print(df_reviews_api_en.columns)"
   ]
  },
  {
   "cell_type": "code",
   "execution_count": null,
   "metadata": {},
   "outputs": [],
   "source": [
    "df_reviews_api_en = df_reviews_api_en.drop(['idioma', 'review', 'sentimiento'], axis=1)"
   ]
  },
  {
   "cell_type": "code",
   "execution_count": 101,
   "metadata": {},
   "outputs": [
    {
     "name": "stdout",
     "output_type": "stream",
     "text": [
      "Index(['user_id', 'item_id', 'recommend', 'year', 'sentimiento_etiqueta'], dtype='object')\n"
     ]
    }
   ],
   "source": [
    "print(df_reviews_api_en.columns)"
   ]
  },
  {
   "cell_type": "code",
   "execution_count": 102,
   "metadata": {},
   "outputs": [],
   "source": [
    "df_reviews_api_en.to_parquet(\"./datasets/df_reviews_api_en.parquet\", index=False)"
   ]
  }
 ],
 "metadata": {
  "kernelspec": {
   "display_name": "venv",
   "language": "python",
   "name": "python3"
  },
  "language_info": {
   "codemirror_mode": {
    "name": "ipython",
    "version": 3
   },
   "file_extension": ".py",
   "mimetype": "text/x-python",
   "name": "python",
   "nbconvert_exporter": "python",
   "pygments_lexer": "ipython3",
   "version": "3.12.2"
  }
 },
 "nbformat": 4,
 "nbformat_minor": 2
}
