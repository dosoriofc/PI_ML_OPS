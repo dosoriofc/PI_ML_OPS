{
 "cells": [
  {
   "cell_type": "code",
   "execution_count": 3,
   "metadata": {},
   "outputs": [],
   "source": [
    "import pandas as pd\n",
    "import numpy as np"
   ]
  },
  {
   "cell_type": "markdown",
   "metadata": {},
   "source": [
    "### 1. def PlayTimeGenre(genero: str) \n",
    "\n",
    "Debe devolver año con mas horas jugadas para dicho género\n",
    "\n",
    "Ejemplo de retorno: {\"Año de lanzamiento con más horas jugadas para Género X\" : 2013}"
   ]
  },
  {
   "cell_type": "code",
   "execution_count": null,
   "metadata": {},
   "outputs": [],
   "source": [
    "#Leer el archivo con dataframe df_games desde el archivo tipo parquet\n",
    "df_games_api1 = pd.read_parquet(\"./datasets/df_game_api.parquet\")\n",
    "print(df_games_api1.head(5))"
   ]
  },
  {
   "cell_type": "code",
   "execution_count": null,
   "metadata": {},
   "outputs": [],
   "source": [
    "# Para convertir la columna year en variable de tipo entero\n",
    "df_games_api1 = df_games_api1.dropna(subset=['year'])\n",
    "df_games_api1['year'] = df_games_api1['year'].astype(int)\n",
    "print(df_games_api1.info())"
   ]
  },
  {
   "cell_type": "code",
   "execution_count": 8,
   "metadata": {},
   "outputs": [
    {
     "name": "stdout",
     "output_type": "stream",
     "text": [
      "             user_id  item_id  playtime_forever\n",
      "0  76561197970982479       10                 6\n"
     ]
    }
   ],
   "source": [
    "#Leer el archivo con dataframe df_items desde el archivo tipo parquet\n",
    "df_items_api1 = pd.read_parquet(\"./datasets/df_items_api.parquet\")\n",
    "print(df_items_api1.head(1))"
   ]
  },
  {
   "cell_type": "code",
   "execution_count": 50,
   "metadata": {},
   "outputs": [
    {
     "name": "stdout",
     "output_type": "stream",
     "text": [
      "                          genres                 title  item_id  year  \\\n",
      "0  ['action', 'indie', 'racing']  Carmageddon Max Pack   282010  1997   \n",
      "\n",
      "    user_id  playtime_forever  \n",
      "0  UTNerd24                 5  \n"
     ]
    }
   ],
   "source": [
    "# Fusionar los 2 DataFrames \n",
    "df_api1_merged = pd.merge(df_games_api1, df_items_api1, on='item_id')\n",
    "print(df_api1_merged.head(1))"
   ]
  },
  {
   "cell_type": "code",
   "execution_count": null,
   "metadata": {},
   "outputs": [],
   "source": [
    "# Nos quedamos solo con las columnas requeridas para la API\n",
    "df_api1_merged = df_api1_merged.drop(['title', 'item_id', 'user_id'], axis=1)\n",
    "print(df_api1_merged.columns)"
   ]
  },
  {
   "cell_type": "code",
   "execution_count": 52,
   "metadata": {},
   "outputs": [],
   "source": [
    "# Se genera el archivo que sera leido por la  API\n",
    "df_api1_merged.to_parquet(\"./data/df_api1.parquet\", index=False)"
   ]
  },
  {
   "cell_type": "code",
   "execution_count": 60,
   "metadata": {},
   "outputs": [
    {
     "name": "stdout",
     "output_type": "stream",
     "text": [
      "genres\n",
      "['action']                                                                  487157\n",
      "['action', 'adventure']                                                     196173\n",
      "['action', 'indie']                                                         119943\n",
      "['strategy']                                                                117890\n",
      "['action', 'rpg']                                                           108480\n",
      "                                                                             ...  \n",
      "['indie', 'massively multiplayer', 'strategy', 'early access']                   1\n",
      "['action', 'free to play', 'indie', 'massively multiplayer', 'strategy']         1\n",
      "['adventure', 'early access']                                                    1\n",
      "['education']                                                                    1\n",
      "['casual', 'indie', 'racing', 'sports']                                          1\n",
      "Name: count, Length: 565, dtype: int64\n"
     ]
    }
   ],
   "source": [
    "conteo_valores = df_api1_merged['genres'].value_counts()\n",
    "print(conteo_valores)"
   ]
  },
  {
   "cell_type": "code",
   "execution_count": 64,
   "metadata": {},
   "outputs": [
    {
     "data": {
      "text/plain": [
       "'Año de lanzamiento con más horas jugadas para Género strategy es: 2013'"
      ]
     },
     "execution_count": 64,
     "metadata": {},
     "output_type": "execute_result"
    }
   ],
   "source": [
    "# Funcion para resolver problema API No. 1: PlayTimeGenre\n",
    "def playTimeGenre(genero:str):\n",
    "\n",
    "    # Se cambia a letra minuscula el valor de genero ingresado\n",
    "    genero = genero.lower()\n",
    "\n",
    "    # Filtramos el dataframe con solo las filas que contengan el genero buscado (que est dentro de una lista en la columna genres)\n",
    "    def buscar_genero(genres_lista, genero_buscar):\n",
    "        return genero_buscar in genres_lista\n",
    "\n",
    "    df_api1_genres = df_api1_merged[df_api1_merged['genres'].apply(buscar_genero, genero_buscar=genero)]\n",
    "    #print(df_api1_genres.head())\n",
    "\n",
    "    # Agrupar por año y sumar las horas jugadas\n",
    "    df_api1_grouped = df_api1_genres.groupby('year')['playtime_forever'].sum()\n",
    "    #print(df_api1_grouped)\n",
    "\n",
    "    # Encontrar el año con la suma máxima de horas jugadas\n",
    "    anio_max_horas_jugadas = df_api1_grouped.idxmax()\n",
    "\n",
    "    resultado=f\"Año de lanzamiento con más horas jugadas para Género {genero} es: {anio_max_horas_jugadas}\"\n",
    "        \n",
    "    return resultado\n",
    "\n",
    "playTimeGenre('Strategy')\n"
   ]
  },
  {
   "cell_type": "markdown",
   "metadata": {},
   "source": [
    "### 2. def UserForGenre(genero: str) \n",
    "\n",
    "Debe devolver el usuario que acumula más horas jugadas para el género dado y una lista de la acumulación de horas jugadas por año.\n",
    "\n",
    "Ejemplo de retorno: {\"Usuario con más horas jugadas para Género X\" : us213ndjss09sdf, \"Horas jugadas\":[{Año: 2013, Horas: 203}, {Año: 2012, Horas: 100}, {Año: 2011, Horas: 23}]} "
   ]
  },
  {
   "cell_type": "code",
   "execution_count": 3,
   "metadata": {},
   "outputs": [
    {
     "name": "stdout",
     "output_type": "stream",
     "text": [
      "                                              genres                title  \\\n",
      "0  ['action', 'casual', 'indie', 'simulation', 's...  Lost Summoner Kitty   \n",
      "\n",
      "   item_id    year  \n",
      "0   761140  2018.0  \n"
     ]
    }
   ],
   "source": [
    "#Leer el archivo con dataframe df_games desde el archivo tipo parquet\n",
    "df_games_api1 = pd.read_parquet(\"./datasets/df_game_api.parquet\")\n",
    "print(df_games_api1.head(1))"
   ]
  },
  {
   "cell_type": "code",
   "execution_count": 4,
   "metadata": {},
   "outputs": [],
   "source": [
    "# Para convertir la columna year en variable de tipo entero\n",
    "df_games_api1 = df_games_api1.dropna(subset=['year'])\n",
    "df_games_api1['year'] = df_games_api1['year'].astype(int)"
   ]
  },
  {
   "cell_type": "code",
   "execution_count": 5,
   "metadata": {},
   "outputs": [
    {
     "name": "stdout",
     "output_type": "stream",
     "text": [
      "             user_id  item_id  playtime_forever\n",
      "0  76561197970982479       10                 6\n"
     ]
    }
   ],
   "source": [
    "#Leer el archivo con dataframe df_items desde el archivo tipo parquet\n",
    "df_items_api1 = pd.read_parquet(\"./datasets/df_items_api.parquet\")\n",
    "print(df_items_api1.head(1))"
   ]
  },
  {
   "cell_type": "code",
   "execution_count": 7,
   "metadata": {},
   "outputs": [
    {
     "name": "stdout",
     "output_type": "stream",
     "text": [
      "                          genres                 title  item_id  year  \\\n",
      "0  ['action', 'indie', 'racing']  Carmageddon Max Pack   282010  1997   \n",
      "\n",
      "    user_id  playtime_forever  \n",
      "0  UTNerd24                 5  \n"
     ]
    }
   ],
   "source": [
    "# Fusionar los 2 DataFrames \n",
    "df_api2_merged = pd.merge(df_games_api1, df_items_api1, on='item_id')\n",
    "print(df_api2_merged.head(1))"
   ]
  },
  {
   "cell_type": "code",
   "execution_count": 8,
   "metadata": {},
   "outputs": [
    {
     "name": "stdout",
     "output_type": "stream",
     "text": [
      "Index(['genres', 'year', 'user_id', 'playtime_forever'], dtype='object')\n"
     ]
    }
   ],
   "source": [
    "# Nos quedamos solo con las columnas requeridas para la API\n",
    "df_api2_merged = df_api2_merged.drop(['title', 'item_id'], axis=1)\n",
    "print(df_api2_merged.columns)"
   ]
  },
  {
   "cell_type": "code",
   "execution_count": 9,
   "metadata": {},
   "outputs": [],
   "source": [
    "# Se genera el archivo que sera leido por la  API\n",
    "df_api2_merged.to_parquet(\"./data/df_api2.parquet\", index=False)"
   ]
  },
  {
   "cell_type": "code",
   "execution_count": null,
   "metadata": {},
   "outputs": [],
   "source": [
    "conteo_valores = df_api2_merged['genres'].value_counts()\n",
    "print(conteo_valores)"
   ]
  },
  {
   "cell_type": "code",
   "execution_count": 20,
   "metadata": {},
   "outputs": [
    {
     "data": {
      "text/plain": [
       "'Usuario con más horas jugadas para Género action es: Sp3ctre, \"Horas jugadas\":[{Año: 1995, Horas: 3}, {Año: 2000, Horas: 1177}, {Año: 2002, Horas: 3}, {Año: 2003, Horas: 127}, {Año: 2004, Horas: 2123}, {Año: 2005, Horas: 355}, {Año: 2006, Horas: 14}, {Año: 2007, Horas: 1879}, {Año: 2008, Horas: 3}, {Año: 2009, Horas: 1805}, {Año: 2010, Horas: 1301}, {Año: 2011, Horas: 2581}, {Año: 2012, Horas: 6304}, {Año: 2013, Horas: 2005}, {Año: 2014, Horas: 2174}, {Año: 2015, Horas: 5125}, {Año: 2016, Horas: 488}, {Año: 2017, Horas: 722}]'"
      ]
     },
     "execution_count": 20,
     "metadata": {},
     "output_type": "execute_result"
    }
   ],
   "source": [
    "# Funcion para resolver problema API No. 2: userForGenre\n",
    "def userForGenre(genero:str):\n",
    "\n",
    "    # Se cambia a letra minuscula el valor de genero ingresado\n",
    "    genero = genero.lower()\n",
    "\n",
    "    # Filtramos el dataframe con solo las filas que contengan el genero buscado (que est dentro de una lista en la columna genres)\n",
    "    def buscar_genero(genres_lista, genero_buscar):\n",
    "        return genero_buscar in genres_lista\n",
    "\n",
    "    df_api2_genres = df_api2_merged[df_api2_merged['genres'].apply(buscar_genero, genero_buscar=genero)]\n",
    "    #print(df_api2_genres['genres'].value_counts())\n",
    "\n",
    "    # Calculamos las horas jugadas por usuario\n",
    "    horas_por_usuario = df_api2_genres.groupby('user_id')['playtime_forever'].sum()/60\n",
    "    #print(horas_por_usuario)\n",
    "    \n",
    "    # Encontramos el usuario con más horas jugadas\n",
    "    usuario_mas_horas = horas_por_usuario.idxmax()\n",
    "    max_horas = horas_por_usuario.max()\n",
    "    #print(usuario_mas_horas, max_horas)\n",
    "\n",
    "    # Obtenemos las horas jugadas por año\n",
    "    horas_por_ano_usuario_mas_horas = df_api2_genres[df_api2_genres['user_id'] == usuario_mas_horas].groupby('year')['playtime_forever'].sum()/60\n",
    "    #print(horas_por_ano_usuario_mas_horas)\n",
    "\n",
    "    # Convertir las horas jugadas por año a un formato de lista de diccionarios\n",
    "    horas_por_ano_usuario_mas_horas = horas_por_ano_usuario_mas_horas.reset_index().to_dict(orient='records')\n",
    "    #print(horas_por_ano_usuario_mas_horas)\n",
    "\n",
    "    # Para presentar el resultado en el formato solicitado \n",
    "    horas_por_ano_str = \", \".join([f\"{{Año: {registro['year']}, Horas: {int(registro['playtime_forever'])}}}\" for registro in horas_por_ano_usuario_mas_horas if int(registro['playtime_forever']) != 0])\n",
    "\n",
    "    # Imprimir el resultado\n",
    "    resultado = f\"Usuario con más horas jugadas para Género {genero} es: {usuario_mas_horas}, \\\"Horas jugadas\\\":[{horas_por_ano_str}]\"\n",
    "\n",
    "    return resultado\n",
    "\n",
    "userForGenre('action')\n"
   ]
  },
  {
   "cell_type": "markdown",
   "metadata": {},
   "source": [
    "### 3. def UsersRecommend(año: int )\n",
    "\n",
    "Devuelve el top 3 de juegos MÁS recomendados por usuarios para el año dado\n",
    "\n",
    "Ejemplo de retorno: [{\"Puesto 1\" : X}, {\"Puesto 2\" : Y},{\"Puesto 3\" : Z}]"
   ]
  },
  {
   "cell_type": "code",
   "execution_count": 4,
   "metadata": {},
   "outputs": [
    {
     "name": "stdout",
     "output_type": "stream",
     "text": [
      "                                              genres                title  \\\n",
      "0  ['action', 'casual', 'indie', 'simulation', 's...  Lost Summoner Kitty   \n",
      "\n",
      "   item_id    year  \n",
      "0   761140  2018.0  \n"
     ]
    }
   ],
   "source": [
    "#Leer el archivo con dataframe df_games desde el archivo tipo parquet\n",
    "df_games_api3 = pd.read_parquet(\"./datasets/df_game_api.parquet\")\n",
    "print(df_games_api3.head(1))"
   ]
  },
  {
   "cell_type": "code",
   "execution_count": 5,
   "metadata": {},
   "outputs": [
    {
     "name": "stdout",
     "output_type": "stream",
     "text": [
      "             user_id item_id  recommend  year  sentimiento_etiqueta\n",
      "0  76561197970982479    1250       True  2011                     2\n"
     ]
    }
   ],
   "source": [
    "#Leer el archivo con dataframe df_games desde el archivo tipo parquet\n",
    "df_reviews_api3 = pd.read_parquet(\"./datasets/df_reviews_api_en.parquet\")\n",
    "print(df_reviews_api3.head(1))"
   ]
  },
  {
   "cell_type": "code",
   "execution_count": 6,
   "metadata": {},
   "outputs": [],
   "source": [
    "# Convertir los datos de la columna 'item_id' a entero\n",
    "df_reviews_api3['item_id'] = df_reviews_api3['item_id'].astype(int)"
   ]
  },
  {
   "cell_type": "code",
   "execution_count": 7,
   "metadata": {},
   "outputs": [
    {
     "name": "stdout",
     "output_type": "stream",
     "text": [
      "       genres      title  item_id  year_x   user_id  recommend  year_y  \\\n",
      "0  ['action']  Half-Life       70  1998.0  GamerFag       True    2011   \n",
      "\n",
      "   sentimiento_etiqueta  \n",
      "0                     0  \n"
     ]
    }
   ],
   "source": [
    "# Fusionar los 2 DataFrames \n",
    "df_api3_merged = pd.merge(df_games_api3, df_reviews_api3, on='item_id')\n",
    "print(df_api3_merged.head(1))"
   ]
  },
  {
   "cell_type": "code",
   "execution_count": 8,
   "metadata": {},
   "outputs": [
    {
     "name": "stdout",
     "output_type": "stream",
     "text": [
      "Index(['title', 'year', 'sentimiento_etiqueta'], dtype='object')\n"
     ]
    }
   ],
   "source": [
    "# Nos quedamos solo con las columnas requeridas para la API\n",
    "df_api3_merged = df_api3_merged.drop(['genres', 'item_id', 'year_x', 'user_id', 'recommend'], axis=1)\n",
    "df_api3_merged.rename(columns={'year_y': 'year'}, inplace=True)\n",
    "print(df_api3_merged.columns)"
   ]
  },
  {
   "cell_type": "code",
   "execution_count": 32,
   "metadata": {},
   "outputs": [],
   "source": [
    "# Se genera el archivo que sera leido por la  API\n",
    "df_api3_merged.to_parquet(\"./data/df_api3.parquet\", index=False)"
   ]
  },
  {
   "cell_type": "code",
   "execution_count": 9,
   "metadata": {},
   "outputs": [
    {
     "data": {
      "text/plain": [
       "[{'Puesto 1: Team Fortress 2'},\n",
       " {\"Puesto 2: Garry's Mod\"},\n",
       " {'Puesto 3: Left 4 Dead 2'}]"
      ]
     },
     "execution_count": 9,
     "metadata": {},
     "output_type": "execute_result"
    }
   ],
   "source": [
    "# Funcion para resolver problema API No. 3: userForGenre\n",
    "def UsersRecommend(año: int, df_api3_merged):\n",
    "    \n",
    "    # Filtramos los datos por el año indicado\n",
    "    df_api3_merged = df_api3_merged[df_api3_merged['year'] == año]\n",
    "\n",
    "    # Calculamos la suma de sentimientos por juego\n",
    "    sentimiento_por_juego = df_api3_merged.groupby('title')['sentimiento_etiqueta'].sum()\n",
    "\n",
    "    # Seleccionamos los tres juegos con los puntajes más altos (ordenados de mayor a menor)\n",
    "    top_juegos = sentimiento_por_juego.nlargest(3)\n",
    "\n",
    "    # Obtenemos los nombres de los juegos\n",
    "    nombres_top_juegos = top_juegos.index.tolist()\n",
    "\n",
    "    # Imprimir el resultado en el formato solicitado\n",
    "    resultado = [{\"Puesto {}: {}\".format(i+1, juego)} for i, juego in enumerate(nombres_top_juegos)]\n",
    "\n",
    "    return resultado\n",
    "\n",
    "UsersRecommend(2013, df_api3_merged)"
   ]
  },
  {
   "cell_type": "markdown",
   "metadata": {},
   "source": [
    "### 4. def UsersNotRecommend(año: int) \n",
    "\n",
    "Devuelve el top 3 de juegos MENOS recomendados por usuarios para el año dado. (reviews.recommend = False y comentarios negativos)\n",
    "\n",
    "Ejemplo de retorno: [{\"Puesto 1\" : X}, {\"Puesto 2\" : Y},{\"Puesto 3\" : Z}]"
   ]
  },
  {
   "cell_type": "code",
   "execution_count": 15,
   "metadata": {},
   "outputs": [],
   "source": [
    "# Se lee el mismo archivo generado en la funcion anterior (UsersRecommend)\n",
    "df_api4_merged = pd.read_parquet(\"./data/df_api3.parquet\")"
   ]
  },
  {
   "cell_type": "code",
   "execution_count": 18,
   "metadata": {},
   "outputs": [
    {
     "data": {
      "text/plain": [
       "[{'Puesto 1: Team Fortress 2'},\n",
       " {\"Puesto 2: Garry's Mod\"},\n",
       " {'Puesto 3: No More Room in Hell'}]"
      ]
     },
     "execution_count": 18,
     "metadata": {},
     "output_type": "execute_result"
    }
   ],
   "source": [
    "# Funcion para resolver problema API No. 4: UsersNotRecommend\n",
    "def UsersNotRecommend(año: int, df_api4_merged):\n",
    "    \n",
    "    # Filtramos los datos por el año indicado\n",
    "    df_api4_merged = df_api4_merged[df_api4_merged['year'] == año]\n",
    "\n",
    "    # Calculamos el número de veces que la columna 'sentimiento_etiqueta' tiene un valor de cero\n",
    "    puntaje_cero_por_juego = df_api4_merged.groupby('title')['sentimiento_etiqueta'].apply(lambda x: (x == 0).sum())\n",
    "\n",
    "    # Seleccionamos los tres juegos con menos recomendacion \n",
    "    last_juegos = puntaje_cero_por_juego.nlargest(3)\n",
    "    #print(last_juegos)\n",
    "\n",
    "    # Obtenemos los nombres de los juegos\n",
    "    nombres_last_juegos = last_juegos.index.tolist()\n",
    "\n",
    "    # Imprimir el resultado en el formato solicitado\n",
    "    resultado = [{\"Puesto {}: {}\".format(i+1, juego)} for i, juego in enumerate(nombres_last_juegos)]\n",
    "\n",
    "    return resultado\n",
    "\n",
    "UsersNotRecommend(2013, df_api4_merged)"
   ]
  },
  {
   "cell_type": "markdown",
   "metadata": {},
   "source": [
    "### 5. def sentiment_analysis(año: int) \n",
    "\n",
    "Según el año de lanzamiento, se devuelve una lista con la cantidad de registros de reseñas de usuarios que se encuentren categorizados con un análisis de sentimiento.\n",
    "\n",
    "Ejemplo de retorno: {Negative = 182, Neutral = 120, Positive = 278}"
   ]
  },
  {
   "cell_type": "code",
   "execution_count": 4,
   "metadata": {},
   "outputs": [
    {
     "name": "stdout",
     "output_type": "stream",
     "text": [
      "                                              genres                title  \\\n",
      "0  ['action', 'casual', 'indie', 'simulation', 's...  Lost Summoner Kitty   \n",
      "\n",
      "   item_id    year  \n",
      "0   761140  2018.0  \n"
     ]
    }
   ],
   "source": [
    "#Leer el archivo con dataframe df_games desde el archivo tipo parquet\n",
    "df_games_api5 = pd.read_parquet(\"./datasets/df_game_api.parquet\")\n",
    "print(df_games_api5.head(1))"
   ]
  },
  {
   "cell_type": "code",
   "execution_count": 5,
   "metadata": {},
   "outputs": [],
   "source": [
    "# Convertir los datos de la columna 'year' a entero\n",
    "df_games_api5 = df_games_api5.dropna(subset=['year'])\n",
    "df_games_api5['year'] = df_games_api5['year'].astype(int)"
   ]
  },
  {
   "cell_type": "code",
   "execution_count": 6,
   "metadata": {},
   "outputs": [
    {
     "name": "stdout",
     "output_type": "stream",
     "text": [
      "             user_id item_id  recommend  year  sentimiento_etiqueta\n",
      "0  76561197970982479    1250       True  2011                     2\n"
     ]
    }
   ],
   "source": [
    "#Leer el archivo con dataframe df_games desde el archivo tipo parquet\n",
    "df_reviews_api5 = pd.read_parquet(\"./datasets/df_reviews_api_en.parquet\")\n",
    "print(df_reviews_api5.head(1))"
   ]
  },
  {
   "cell_type": "code",
   "execution_count": 7,
   "metadata": {},
   "outputs": [],
   "source": [
    "# Convertir los datos de la columna 'item_id' a entero\n",
    "df_reviews_api5['item_id'] = df_reviews_api5['item_id'].astype(int)"
   ]
  },
  {
   "cell_type": "code",
   "execution_count": 8,
   "metadata": {},
   "outputs": [
    {
     "name": "stdout",
     "output_type": "stream",
     "text": [
      "              genres                       title  item_id  year   user_id  \\\n",
      "0  ['action', 'rpg']  Mount &amp; Blade: Warband    48700  2010  ginntron   \n",
      "\n",
      "   recommend  sentimiento_etiqueta  \n",
      "0       True                     2  \n"
     ]
    }
   ],
   "source": [
    "# Fusionar los 2 DataFrames \n",
    "df_api5_merged = pd.merge(df_games_api5, df_reviews_api5, on=['item_id', 'year'])\n",
    "print(df_api5_merged.head(1))"
   ]
  },
  {
   "cell_type": "code",
   "execution_count": 9,
   "metadata": {},
   "outputs": [
    {
     "name": "stdout",
     "output_type": "stream",
     "text": [
      "   year  sentimiento_etiqueta\n",
      "0  2010                     2\n"
     ]
    }
   ],
   "source": [
    "# Nos quedamos solo con las columnas requeridas para la API\n",
    "df_api5_merged = df_api5_merged.drop(['genres', 'title', 'item_id', 'user_id', 'recommend'], axis=1)\n",
    "print(df_api5_merged.head(1))"
   ]
  },
  {
   "cell_type": "code",
   "execution_count": 10,
   "metadata": {},
   "outputs": [],
   "source": [
    "# Se genera el archivo que sera leido por la  API\n",
    "df_api5_merged.to_parquet(\"./data/df_api5.parquet\", index=False)"
   ]
  },
  {
   "cell_type": "code",
   "execution_count": 19,
   "metadata": {},
   "outputs": [
    {
     "data": {
      "text/plain": [
       "{'Valor 0': 9, 'Valor 1': 16, 'Valor 2': 89}"
      ]
     },
     "execution_count": 19,
     "metadata": {},
     "output_type": "execute_result"
    }
   ],
   "source": [
    "# Funcion para resolver problema API No. 5: sentiment_analysis\n",
    "def sentiment_analysis(año: int, df_api5_merged):\n",
    "    \n",
    "    # Filtramos los datos por el año indicado\n",
    "    df_api5_merged = df_api5_merged[df_api5_merged['year'] == año]\n",
    "    #resultado = (df_api5_merged.head(1))\n",
    "\n",
    "    # Contamos el número de veces que se repiten los valores en la columna 'sentimiento_etiqueta'\n",
    "    #conteo_valores = df_api5_merged['sentimiento_etiqueta'].value_counts()\n",
    "    # print(conteo_valores)\n",
    "\n",
    "    conteo_valores = df_api5_merged['sentimiento_etiqueta'].value_counts().to_dict()\n",
    "\n",
    "    # Paso 4: Crear la lista con el formato deseado\n",
    "    resultado = {'Valor {}'.format(k): conteo_valores.get(k, 0) for k in range(3)}\n",
    "\n",
    "\n",
    "    # Creamos la lista con el formato deseado\n",
    "    #resultado = {'Negative': conteo_valores.get(0, 0), 'Neutral': conteo_valores.get(1, 0), 'Positive': conteo_valores.get(2, 0)}\n",
    "\n",
    "    return resultado\n",
    "\n",
    "sentiment_analysis(2011, df_api5_merged)"
   ]
  },
  {
   "cell_type": "code",
   "execution_count": null,
   "metadata": {},
   "outputs": [],
   "source": []
  },
  {
   "cell_type": "markdown",
   "metadata": {},
   "source": [
    "### def recomendacion_usuario(id de usuario): \n",
    "\n",
    "Ingresando el id de un usuario, deberíamos recibir una lista con 5 juegos recomendados para dicho usuario."
   ]
  },
  {
   "cell_type": "code",
   "execution_count": 20,
   "metadata": {},
   "outputs": [
    {
     "name": "stdout",
     "output_type": "stream",
     "text": [
      "                                              genres                title  \\\n",
      "0  ['action', 'casual', 'indie', 'simulation', 's...  Lost Summoner Kitty   \n",
      "\n",
      "   item_id    year  \n",
      "0   761140  2018.0  \n"
     ]
    }
   ],
   "source": [
    "#Leer el archivo con dataframe df_games desde el archivo tipo parquet\n",
    "df_games_api5 = pd.read_parquet(\"./datasets/df_game_api.parquet\")\n",
    "print(df_games_api5.head(1))"
   ]
  },
  {
   "cell_type": "code",
   "execution_count": 21,
   "metadata": {},
   "outputs": [],
   "source": [
    "# Convertir los datos de la columna 'year' a entero\n",
    "df_games_api5 = df_games_api5.dropna(subset=['year'])\n",
    "df_games_api5['year'] = df_games_api5['year'].astype(int)"
   ]
  },
  {
   "cell_type": "code",
   "execution_count": 22,
   "metadata": {},
   "outputs": [
    {
     "name": "stdout",
     "output_type": "stream",
     "text": [
      "             user_id  item_id  recommend  year  sentimiento_etiqueta\n",
      "0  76561197970982479     1250       True  2011                     2\n"
     ]
    }
   ],
   "source": [
    "#Leer el archivo con dataframe df_games desde el archivo tipo parquet\n",
    "df_reviews_api5 = pd.read_parquet(\"./datasets/df_reviews_api_en.parquet\")\n",
    "\n",
    "# Convertir los datos de la columna 'item_id' a entero\n",
    "df_reviews_api5['item_id'] = df_reviews_api5['item_id'].astype(int)\n",
    "\n",
    "print(df_reviews_api5.head(1))"
   ]
  },
  {
   "cell_type": "code",
   "execution_count": null,
   "metadata": {},
   "outputs": [],
   "source": [
    "# Fusionar los 2 DataFrames \n",
    "df_api5_merged = pd.merge(df_games_api5, df_reviews_api5, on=['item_id', 'year'])\n",
    "print(df_api5_merged.head(1))"
   ]
  },
  {
   "cell_type": "code",
   "execution_count": 23,
   "metadata": {},
   "outputs": [
    {
     "name": "stdout",
     "output_type": "stream",
     "text": [
      "             user_id          title recommend\n",
      "0  76561197970982479  Killing Floor      True\n"
     ]
    }
   ],
   "source": [
    "# Seleccionamos las columnas necesarias de los dataframes de interes para el sistema de recomendacion \n",
    "\n",
    "df_games_ML = df_games_api5[[\"item_id\",\"title\"]]\n",
    "df_reviews_ML = df_reviews_api5[[\"user_id\",\"item_id\",\"recommend\"]]\n",
    "\n",
    "# Hacemos el merge entre los dos dataframes y ns quedamos solo con las columna necesarias \n",
    "df_ML = pd.merge(df_reviews_ML,df_games_ML, on=\"item_id\", how=\"inner\")\n",
    "df_ML = df_ML[[\"user_id\",\"title\",\"recommend\"]]\n",
    "\n",
    "df_ML = df_ML.astype(str)\n",
    "\n",
    "print(df_ML.head(1))\n"
   ]
  },
  {
   "cell_type": "code",
   "execution_count": 24,
   "metadata": {},
   "outputs": [],
   "source": [
    "# Se genera el archivo que sera leido por la  API\n",
    "df_ML.to_parquet(\"./data/df_ML.parquet\", index=False)"
   ]
  },
  {
   "cell_type": "code",
   "execution_count": null,
   "metadata": {},
   "outputs": [],
   "source": [
    "from sklearn.metrics.pairwise import cosine_similarity\n",
    "\n",
    "#user_id = \"76561197970982479\"\n",
    "\n",
    "# Funcion para implementar el calculo del cosine_similarity y recomendar los 5 juegos solicitados\n",
    "def recomendacion_usuario(user_id :str):\n",
    "\n",
    "    # Crear una matriz de recomendaciones donde las filas son usuarios y las columnas son juegos\n",
    "    user_game_matrix = pd.crosstab(df_ML['user_id'], df_ML['title'])\n",
    "\n",
    "    try:\n",
    "        # Encuentra el índice del usuario en la matriz\n",
    "        user_index = user_game_matrix.index.get_loc(user_id)\n",
    "    except KeyError:\n",
    "        print(f\"El usuario {user_id} no está presente en los datos.\")\n",
    "        return None\n",
    "\n",
    "    # Calcula la similitud de coseno entre los usuarios\n",
    "    cosine_similarities = cosine_similarity(user_game_matrix, user_game_matrix)\n",
    "\n",
    "    # Obtén las similitudes de coseno para el usuario dado\n",
    "    similar_users = cosine_similarities[user_index]\n",
    "\n",
    "    # Encuentra los juegos que el usuario no ha calificado\n",
    "    games_played = user_game_matrix.loc[user_id]\n",
    "    unrated_games = games_played[games_played == 0].index\n",
    "\n",
    "    # Calcula las puntuaciones de recomendación sumando las similitudes de usuarios para los juegos no calificados\n",
    "    recommendation_scores = user_game_matrix.loc[:, unrated_games].multiply(similar_users, axis=0).sum(axis=0)\n",
    "\n",
    "    # Ordena las recomendaciones por puntuación descendente\n",
    "    recommendations = recommendation_scores.sort_values(ascending=False).index.tolist()\n",
    "\n",
    "    # Limita las recomendaciones a los primeros 5 juegos\n",
    "    top_recommendations = recommendations[:5]\n",
    "    #print(top_recommendations)\n",
    "\n",
    "    return top_recommendations\n",
    "\n",
    "# usuario_a_recomendar es el ID del usuario para el que quieres obtener recomendaciones\n",
    "recomendacion_usuario('76561197970982479')\n"
   ]
  }
 ],
 "metadata": {
  "kernelspec": {
   "display_name": "venv",
   "language": "python",
   "name": "python3"
  },
  "language_info": {
   "codemirror_mode": {
    "name": "ipython",
    "version": 3
   },
   "file_extension": ".py",
   "mimetype": "text/x-python",
   "name": "python",
   "nbconvert_exporter": "python",
   "pygments_lexer": "ipython3",
   "version": "3.12.2"
  }
 },
 "nbformat": 4,
 "nbformat_minor": 2
}
