{
 "cells": [
  {
   "cell_type": "code",
   "execution_count": 58,
   "metadata": {},
   "outputs": [],
   "source": [
    "import pandas as pd\n",
    "import numpy as np"
   ]
  },
  {
   "cell_type": "markdown",
   "metadata": {},
   "source": [
    "### 1. def PlayTimeGenre(genero: str): \n",
    "\n",
    "Debe devolver año con mas horas jugadas para dicho género\n",
    "\n",
    "Ejemplo de retorno: {\"Año de lanzamiento con más horas jugadas para Género X\" : 2013}"
   ]
  },
  {
   "cell_type": "code",
   "execution_count": null,
   "metadata": {},
   "outputs": [],
   "source": [
    "#Leer el archivo con dataframe df_games desde el archivo tipo parquet\n",
    "df_games_api1 = pd.read_parquet(\"./datasets/df_game_api.parquet\")\n",
    "print(df_games_api1.head(5))"
   ]
  },
  {
   "cell_type": "code",
   "execution_count": null,
   "metadata": {},
   "outputs": [],
   "source": [
    "# Para convertir la columna year en variable de tipo entero\n",
    "df_games_api1 = df_games_api1.dropna(subset=['year'])\n",
    "df_games_api1['year'] = df_games_api1['year'].astype(int)\n",
    "print(df_games_api1.info())"
   ]
  },
  {
   "cell_type": "code",
   "execution_count": 8,
   "metadata": {},
   "outputs": [
    {
     "name": "stdout",
     "output_type": "stream",
     "text": [
      "             user_id  item_id  playtime_forever\n",
      "0  76561197970982479       10                 6\n"
     ]
    }
   ],
   "source": [
    "#Leer el archivo con dataframe df_items desde el archivo tipo parquet\n",
    "df_items_api1 = pd.read_parquet(\"./datasets/df_items_api.parquet\")\n",
    "print(df_items_api1.head(1))"
   ]
  },
  {
   "cell_type": "code",
   "execution_count": 50,
   "metadata": {},
   "outputs": [
    {
     "name": "stdout",
     "output_type": "stream",
     "text": [
      "                          genres                 title  item_id  year  \\\n",
      "0  ['action', 'indie', 'racing']  Carmageddon Max Pack   282010  1997   \n",
      "\n",
      "    user_id  playtime_forever  \n",
      "0  UTNerd24                 5  \n"
     ]
    }
   ],
   "source": [
    "# Fusionar los 2 DataFrames \n",
    "df_api1_merged = pd.merge(df_games_api1, df_items_api1, on='item_id')\n",
    "print(df_api1_merged.head(1))"
   ]
  },
  {
   "cell_type": "code",
   "execution_count": null,
   "metadata": {},
   "outputs": [],
   "source": [
    "# Nos quedamos solo con las columnas requeridas para la API\n",
    "df_api1_merged = df_api1_merged.drop(['title', 'item_id', 'user_id'], axis=1)\n",
    "print(df_api1_merged.columns)"
   ]
  },
  {
   "cell_type": "code",
   "execution_count": 52,
   "metadata": {},
   "outputs": [],
   "source": [
    "# Se genera el archivo que sera leido por la  API\n",
    "df_api1_merged.to_parquet(\"./data/df_api1.parquet\", index=False)"
   ]
  },
  {
   "cell_type": "code",
   "execution_count": 59,
   "metadata": {},
   "outputs": [
    {
     "name": "stdout",
     "output_type": "stream",
     "text": [
      "             genres  year  playtime_forever\n",
      "2703555  ['action']  2004                 7\n",
      "2703556  ['action']  2004                76\n",
      "2703557  ['action']  2004                47\n",
      "2703558  ['action']  2004                 6\n",
      "2703559  ['action']  2004                 2\n",
      "...             ...   ...               ...\n",
      "2703650  ['action']  2004               203\n",
      "2703651  ['action']  2004               244\n",
      "2703652  ['action']  2004                 7\n",
      "2703653  ['action']  2004                 9\n",
      "2703654  ['action']  2004                99\n",
      "\n",
      "[100 rows x 3 columns]\n"
     ]
    }
   ],
   "source": [
    "print(df_api1_merged.tail(100))"
   ]
  },
  {
   "cell_type": "code",
   "execution_count": 60,
   "metadata": {},
   "outputs": [
    {
     "name": "stdout",
     "output_type": "stream",
     "text": [
      "genres\n",
      "['action']                                                                  487157\n",
      "['action', 'adventure']                                                     196173\n",
      "['action', 'indie']                                                         119943\n",
      "['strategy']                                                                117890\n",
      "['action', 'rpg']                                                           108480\n",
      "                                                                             ...  \n",
      "['indie', 'massively multiplayer', 'strategy', 'early access']                   1\n",
      "['action', 'free to play', 'indie', 'massively multiplayer', 'strategy']         1\n",
      "['adventure', 'early access']                                                    1\n",
      "['education']                                                                    1\n",
      "['casual', 'indie', 'racing', 'sports']                                          1\n",
      "Name: count, Length: 565, dtype: int64\n"
     ]
    }
   ],
   "source": [
    "conteo_valores = df_api1_merged['genres'].value_counts()\n",
    "print(conteo_valores)"
   ]
  },
  {
   "cell_type": "code",
   "execution_count": 62,
   "metadata": {},
   "outputs": [
    {
     "ename": "ValueError",
     "evalue": "attempt to get argmax of an empty sequence",
     "output_type": "error",
     "traceback": [
      "\u001b[1;31m---------------------------------------------------------------------------\u001b[0m",
      "\u001b[1;31mValueError\u001b[0m                                Traceback (most recent call last)",
      "Cell \u001b[1;32mIn[62], line 26\u001b[0m\n\u001b[0;32m     22\u001b[0m     resultado\u001b[38;5;241m=\u001b[39m\u001b[38;5;124mf\u001b[39m\u001b[38;5;124m\"\u001b[39m\u001b[38;5;124mAño de lanzamiento con más horas jugadas para Género \u001b[39m\u001b[38;5;132;01m{\u001b[39;00mgenero\u001b[38;5;132;01m}\u001b[39;00m\u001b[38;5;124m es: \u001b[39m\u001b[38;5;132;01m{\u001b[39;00manio_max_horas_jugadas\u001b[38;5;132;01m}\u001b[39;00m\u001b[38;5;124m\"\u001b[39m\n\u001b[0;32m     24\u001b[0m     \u001b[38;5;28;01mreturn\u001b[39;00m resultado\n\u001b[1;32m---> 26\u001b[0m \u001b[43mplayTimeGenre\u001b[49m\u001b[43m(\u001b[49m\u001b[38;5;124;43m'\u001b[39;49m\u001b[38;5;124;43mStrategy\u001b[39;49m\u001b[38;5;124;43m'\u001b[39;49m\u001b[43m)\u001b[49m\n",
      "Cell \u001b[1;32mIn[62], line 20\u001b[0m, in \u001b[0;36mplayTimeGenre\u001b[1;34m(genero)\u001b[0m\n\u001b[0;32m     16\u001b[0m df_api1_grouped \u001b[38;5;241m=\u001b[39m df_api1_genres\u001b[38;5;241m.\u001b[39mgroupby(\u001b[38;5;124m'\u001b[39m\u001b[38;5;124myear\u001b[39m\u001b[38;5;124m'\u001b[39m)[\u001b[38;5;124m'\u001b[39m\u001b[38;5;124mplaytime_forever\u001b[39m\u001b[38;5;124m'\u001b[39m]\u001b[38;5;241m.\u001b[39msum()\n\u001b[0;32m     17\u001b[0m \u001b[38;5;66;03m#print(df_api1_grouped)\u001b[39;00m\n\u001b[0;32m     18\u001b[0m \n\u001b[0;32m     19\u001b[0m \u001b[38;5;66;03m# Encontrar el año con la suma máxima de horas jugadas\u001b[39;00m\n\u001b[1;32m---> 20\u001b[0m anio_max_horas_jugadas \u001b[38;5;241m=\u001b[39m \u001b[43mdf_api1_grouped\u001b[49m\u001b[38;5;241;43m.\u001b[39;49m\u001b[43midxmax\u001b[49m\u001b[43m(\u001b[49m\u001b[43m)\u001b[49m\n\u001b[0;32m     22\u001b[0m resultado\u001b[38;5;241m=\u001b[39m\u001b[38;5;124mf\u001b[39m\u001b[38;5;124m\"\u001b[39m\u001b[38;5;124mAño de lanzamiento con más horas jugadas para Género \u001b[39m\u001b[38;5;132;01m{\u001b[39;00mgenero\u001b[38;5;132;01m}\u001b[39;00m\u001b[38;5;124m es: \u001b[39m\u001b[38;5;132;01m{\u001b[39;00manio_max_horas_jugadas\u001b[38;5;132;01m}\u001b[39;00m\u001b[38;5;124m\"\u001b[39m\n\u001b[0;32m     24\u001b[0m \u001b[38;5;28;01mreturn\u001b[39;00m resultado\n",
      "File \u001b[1;32mc:\\Users\\Diego\\PI_ML_OPS\\venv\\Lib\\site-packages\\pandas\\core\\series.py:2752\u001b[0m, in \u001b[0;36mSeries.idxmax\u001b[1;34m(self, axis, skipna, *args, **kwargs)\u001b[0m\n\u001b[0;32m   2747\u001b[0m \u001b[38;5;28;01mwith\u001b[39;00m warnings\u001b[38;5;241m.\u001b[39mcatch_warnings():\n\u001b[0;32m   2748\u001b[0m     \u001b[38;5;66;03m# TODO(3.0): this catching/filtering can be removed\u001b[39;00m\n\u001b[0;32m   2749\u001b[0m     \u001b[38;5;66;03m# ignore warning produced by argmax since we will issue a different\u001b[39;00m\n\u001b[0;32m   2750\u001b[0m     \u001b[38;5;66;03m#  warning for argmax\u001b[39;00m\n\u001b[0;32m   2751\u001b[0m     warnings\u001b[38;5;241m.\u001b[39msimplefilter(\u001b[38;5;124m\"\u001b[39m\u001b[38;5;124mignore\u001b[39m\u001b[38;5;124m\"\u001b[39m)\n\u001b[1;32m-> 2752\u001b[0m     i \u001b[38;5;241m=\u001b[39m \u001b[38;5;28;43mself\u001b[39;49m\u001b[38;5;241;43m.\u001b[39;49m\u001b[43margmax\u001b[49m\u001b[43m(\u001b[49m\u001b[43maxis\u001b[49m\u001b[43m,\u001b[49m\u001b[43m \u001b[49m\u001b[43mskipna\u001b[49m\u001b[43m,\u001b[49m\u001b[43m \u001b[49m\u001b[38;5;241;43m*\u001b[39;49m\u001b[43margs\u001b[49m\u001b[43m,\u001b[49m\u001b[43m \u001b[49m\u001b[38;5;241;43m*\u001b[39;49m\u001b[38;5;241;43m*\u001b[39;49m\u001b[43mkwargs\u001b[49m\u001b[43m)\u001b[49m\n\u001b[0;32m   2754\u001b[0m \u001b[38;5;28;01mif\u001b[39;00m i \u001b[38;5;241m==\u001b[39m \u001b[38;5;241m-\u001b[39m\u001b[38;5;241m1\u001b[39m:\n\u001b[0;32m   2755\u001b[0m     \u001b[38;5;66;03m# GH#43587 give correct NA value for Index.\u001b[39;00m\n\u001b[0;32m   2756\u001b[0m     warnings\u001b[38;5;241m.\u001b[39mwarn(\n\u001b[0;32m   2757\u001b[0m         \u001b[38;5;124mf\u001b[39m\u001b[38;5;124m\"\u001b[39m\u001b[38;5;124mThe behavior of \u001b[39m\u001b[38;5;132;01m{\u001b[39;00m\u001b[38;5;28mtype\u001b[39m(\u001b[38;5;28mself\u001b[39m)\u001b[38;5;241m.\u001b[39m\u001b[38;5;18m__name__\u001b[39m\u001b[38;5;132;01m}\u001b[39;00m\u001b[38;5;124m.idxmax with all-NA \u001b[39m\u001b[38;5;124m\"\u001b[39m\n\u001b[0;32m   2758\u001b[0m         \u001b[38;5;124m\"\u001b[39m\u001b[38;5;124mvalues, or any-NA and skipna=False, is deprecated. In a future \u001b[39m\u001b[38;5;124m\"\u001b[39m\n\u001b[1;32m   (...)\u001b[0m\n\u001b[0;32m   2761\u001b[0m         stacklevel\u001b[38;5;241m=\u001b[39mfind_stack_level(),\n\u001b[0;32m   2762\u001b[0m     )\n",
      "File \u001b[1;32mc:\\Users\\Diego\\PI_ML_OPS\\venv\\Lib\\site-packages\\pandas\\core\\base.py:751\u001b[0m, in \u001b[0;36mIndexOpsMixin.argmax\u001b[1;34m(self, axis, skipna, *args, **kwargs)\u001b[0m\n\u001b[0;32m    749\u001b[0m         \u001b[38;5;28;01mreturn\u001b[39;00m delegate\u001b[38;5;241m.\u001b[39margmax()\n\u001b[0;32m    750\u001b[0m \u001b[38;5;28;01melse\u001b[39;00m:\n\u001b[1;32m--> 751\u001b[0m     result \u001b[38;5;241m=\u001b[39m \u001b[43mnanops\u001b[49m\u001b[38;5;241;43m.\u001b[39;49m\u001b[43mnanargmax\u001b[49m\u001b[43m(\u001b[49m\u001b[43mdelegate\u001b[49m\u001b[43m,\u001b[49m\u001b[43m \u001b[49m\u001b[43mskipna\u001b[49m\u001b[38;5;241;43m=\u001b[39;49m\u001b[43mskipna\u001b[49m\u001b[43m)\u001b[49m\n\u001b[0;32m    752\u001b[0m     \u001b[38;5;28;01mif\u001b[39;00m result \u001b[38;5;241m==\u001b[39m \u001b[38;5;241m-\u001b[39m\u001b[38;5;241m1\u001b[39m:\n\u001b[0;32m    753\u001b[0m         warnings\u001b[38;5;241m.\u001b[39mwarn(\n\u001b[0;32m    754\u001b[0m             \u001b[38;5;124mf\u001b[39m\u001b[38;5;124m\"\u001b[39m\u001b[38;5;124mThe behavior of \u001b[39m\u001b[38;5;132;01m{\u001b[39;00m\u001b[38;5;28mtype\u001b[39m(\u001b[38;5;28mself\u001b[39m)\u001b[38;5;241m.\u001b[39m\u001b[38;5;18m__name__\u001b[39m\u001b[38;5;132;01m}\u001b[39;00m\u001b[38;5;124m.argmax/argmin \u001b[39m\u001b[38;5;124m\"\u001b[39m\n\u001b[0;32m    755\u001b[0m             \u001b[38;5;124m\"\u001b[39m\u001b[38;5;124mwith skipna=False and NAs, or with all-NAs is deprecated. \u001b[39m\u001b[38;5;124m\"\u001b[39m\n\u001b[1;32m   (...)\u001b[0m\n\u001b[0;32m    758\u001b[0m             stacklevel\u001b[38;5;241m=\u001b[39mfind_stack_level(),\n\u001b[0;32m    759\u001b[0m         )\n",
      "File \u001b[1;32mc:\\Users\\Diego\\PI_ML_OPS\\venv\\Lib\\site-packages\\pandas\\core\\nanops.py:1148\u001b[0m, in \u001b[0;36mnanargmax\u001b[1;34m(values, axis, skipna, mask)\u001b[0m\n\u001b[0;32m   1116\u001b[0m \u001b[38;5;250m\u001b[39m\u001b[38;5;124;03m\"\"\"\u001b[39;00m\n\u001b[0;32m   1117\u001b[0m \u001b[38;5;124;03mParameters\u001b[39;00m\n\u001b[0;32m   1118\u001b[0m \u001b[38;5;124;03m----------\u001b[39;00m\n\u001b[1;32m   (...)\u001b[0m\n\u001b[0;32m   1145\u001b[0m \u001b[38;5;124;03marray([2, 2, 1, 1])\u001b[39;00m\n\u001b[0;32m   1146\u001b[0m \u001b[38;5;124;03m\"\"\"\u001b[39;00m\n\u001b[0;32m   1147\u001b[0m values, mask \u001b[38;5;241m=\u001b[39m _get_values(values, \u001b[38;5;28;01mTrue\u001b[39;00m, fill_value_typ\u001b[38;5;241m=\u001b[39m\u001b[38;5;124m\"\u001b[39m\u001b[38;5;124m-inf\u001b[39m\u001b[38;5;124m\"\u001b[39m, mask\u001b[38;5;241m=\u001b[39mmask)\n\u001b[1;32m-> 1148\u001b[0m result \u001b[38;5;241m=\u001b[39m \u001b[43mvalues\u001b[49m\u001b[38;5;241;43m.\u001b[39;49m\u001b[43margmax\u001b[49m\u001b[43m(\u001b[49m\u001b[43maxis\u001b[49m\u001b[43m)\u001b[49m\n\u001b[0;32m   1149\u001b[0m \u001b[38;5;66;03m# error: Argument 1 to \"_maybe_arg_null_out\" has incompatible type \"Any |\u001b[39;00m\n\u001b[0;32m   1150\u001b[0m \u001b[38;5;66;03m# signedinteger[Any]\"; expected \"ndarray[Any, Any]\"\u001b[39;00m\n\u001b[0;32m   1151\u001b[0m result \u001b[38;5;241m=\u001b[39m _maybe_arg_null_out(result, axis, mask, skipna)  \u001b[38;5;66;03m# type: ignore[arg-type]\u001b[39;00m\n",
      "\u001b[1;31mValueError\u001b[0m: attempt to get argmax of an empty sequence"
     ]
    }
   ],
   "source": [
    "# Funcion para resolver problema API NO. 1: PlayTimeGenre\n",
    "def playTimeGenre(genero:str):\n",
    "\n",
    "    # Se cambia a letra minuscula el valor de genero ingresado\n",
    "    df_games['genres'] = df_games['genres'].astype(str).str.lower()\n",
    "    genero = genero.lower()\n",
    "\n",
    "    # Filtramos el dataframe con solo las filas que contengan el genero buscado (que est dentro de una lista en la columna genres)\n",
    "    def buscar_genero(genres_lista, genero_buscar):\n",
    "        return genero_buscar in genres_lista\n",
    "\n",
    "    df_api1_genres = df_api1_merged[df_api1_merged['genres'].apply(buscar_genero, genero_buscar=genero)]\n",
    "    #print(df_api1_genres.head())\n",
    "\n",
    "    # Agrupar por año y sumar las horas jugadas\n",
    "    df_api1_grouped = df_api1_genres.groupby('year')['playtime_forever'].sum()\n",
    "    #print(df_api1_grouped)\n",
    "\n",
    "    # Encontrar el año con la suma máxima de horas jugadas\n",
    "    anio_max_horas_jugadas = df_api1_grouped.idxmax()\n",
    "\n",
    "    resultado=f\"Año de lanzamiento con más horas jugadas para Género {genero} es: {anio_max_horas_jugadas}\"\n",
    "        \n",
    "    return resultado\n",
    "\n",
    "playTimeGenre('Strategy')\n"
   ]
  }
 ],
 "metadata": {
  "kernelspec": {
   "display_name": "venv",
   "language": "python",
   "name": "python3"
  },
  "language_info": {
   "codemirror_mode": {
    "name": "ipython",
    "version": 3
   },
   "file_extension": ".py",
   "mimetype": "text/x-python",
   "name": "python",
   "nbconvert_exporter": "python",
   "pygments_lexer": "ipython3",
   "version": "3.12.2"
  }
 },
 "nbformat": 4,
 "nbformat_minor": 2
}
